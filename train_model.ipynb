{
 "cells": [
  {
   "cell_type": "code",
   "execution_count": 15,
   "metadata": {},
   "outputs": [],
   "source": [
    "import pandas as pd\n",
    "import pymysql\n",
    "from pyhanlp import *\n",
    "# 获取评论数据\n",
    "from jd_spiders.jd_spiders.server_config import MYSQL_PASSWD\n",
    "conn = pymysql.connect(host='132.232.5.244',port=3306,user='root',passwd=MYSQL_PASSWD,charset='UTF8',db='comment')\n",
    "\n",
    "CRFLexicalAnalyzer = JClass(\"com.hankcs.hanlp.model.crf.CRFLexicalAnalyzer\")\n",
    "analyzer = CRFLexicalAnalyzer()\n",
    "# 加载标点停用词列表\n",
    "with open('stopwords.txt', 'r') as file:\n",
    "    stopword_list = file.read().splitlines()\n",
    "\n",
    "    \n",
    "def sentence_pretreat(sentence):\n",
    "    word_list = analyzer.analyze(sentence).toWordArray()\n",
    "    s = ''\n",
    "#     print(word_list)\n",
    "    for word in word_list:\n",
    "        if word not in stopword_list:\n",
    "            s += word + ' '\n",
    "    return s\n",
    "    \n",
    "\n",
    "\n"
   ]
  },
  {
   "cell_type": "code",
   "execution_count": null,
   "metadata": {},
   "outputs": [],
   "source": [
    "\n",
    "print(sentence_pretreat('三星手机太好用了吧'))\n"
   ]
  },
  {
   "cell_type": "code",
   "execution_count": 16,
   "metadata": {},
   "outputs": [
    {
     "name": "stdout",
     "output_type": "stream",
     "text": [
      "cut complete\n",
      "generate corpus complete\n"
     ]
    }
   ],
   "source": [
    "# 生成word2vec训练集\n",
    "get_comments_sql = 'SELECT content FROM jd_comment LIMIT 350000'\n",
    "corpus_comments = pd.read_sql(get_comments_sql, conn)\n",
    "\n",
    "# 对comments进行切词合并\n",
    "corpus_comments['content'] = corpus_comments['content'].map(sentence_pretreat)\n",
    "print('cut complete')\n",
    "with open('corpus.txt', 'w') as corpus:\n",
    "    for c in corpus_comments['content']:\n",
    "        corpus.write(c)\n",
    "print('generate corpus complete')"
   ]
  },
  {
   "cell_type": "code",
   "execution_count": 17,
   "metadata": {},
   "outputs": [
    {
     "name": "stdout",
     "output_type": "stream",
     "text": [
      "save model complete\n"
     ]
    }
   ],
   "source": [
    "from gensim.models import word2vec\n",
    "\n",
    "sentences = word2vec.Text8Corpus('corpus.txt')  # 加载语料\n",
    "model = word2vec.Word2Vec(sentences, size=100)  # 训练词向量\n",
    "model.save('model_30w.model')\n",
    "print('save model complete')           \n",
    "\n"
   ]
  },
  {
   "cell_type": "code",
   "execution_count": null,
   "metadata": {},
   "outputs": [],
   "source": [
    "from gensim.models import word2vec\n",
    "model = word2vec.Word2Vec.load('model_30w.model')\n"
   ]
  },
  {
   "cell_type": "code",
   "execution_count": 18,
   "metadata": {},
   "outputs": [
    {
     "data": {
      "text/plain": [
       "[('不错', 0.739865779876709),\n",
       " ('满意', 0.7319519519805908),\n",
       " ('也好', 0.6526212692260742),\n",
       " ('物有所值', 0.6331366896629333),\n",
       " ('喜欢', 0.6325660943984985),\n",
       " ('不错不错', 0.6075074672698975),\n",
       " ('顺手', 0.582297682762146),\n",
       " ('也', 0.5792814493179321),\n",
       " ('物美价廉', 0.5771516561508179),\n",
       " ('实用', 0.5616207122802734),\n",
       " ('挺不错', 0.5606471300125122),\n",
       " ('不错哦', 0.5587072968482971),\n",
       " ('好看', 0.540128231048584),\n",
       " ('真不错', 0.5324037075042725),\n",
       " ('很棒', 0.5288108587265015),\n",
       " ('真好', 0.518500804901123),\n",
       " ('物超所值', 0.5162101984024048),\n",
       " ('实惠', 0.5055240392684937),\n",
       " ('很', 0.4975185990333557),\n",
       " ('nice', 0.4912230968475342),\n",
       " ('漂亮', 0.488691121339798),\n",
       " ('开心', 0.4848715662956238),\n",
       " ('超赞', 0.48484307527542114),\n",
       " ('挺好用', 0.4817465543746948),\n",
       " ('超值', 0.4812268018722534),\n",
       " ('的', 0.48073771595954895),\n",
       " ('没得说', 0.47644561529159546),\n",
       " ('超级棒', 0.47635775804519653),\n",
       " ('非常', 0.4763484299182892),\n",
       " ('到位', 0.47620922327041626)]"
      ]
     },
     "execution_count": 18,
     "metadata": {},
     "output_type": "execute_result"
    }
   ],
   "source": [
    "model.wv.most_similar('好', topn=30)"
   ]
  },
  {
   "cell_type": "code",
   "execution_count": null,
   "metadata": {},
   "outputs": [],
   "source": [
    "\n",
    "print(dir(analyzer.analyze('小米手机的外观超好')))\n",
    "print(analyzer.analyze('小米手机的外观超好').toWordArray())"
   ]
  },
  {
   "cell_type": "code",
   "execution_count": null,
   "metadata": {},
   "outputs": [],
   "source": [
    "from gensim.models import word2vec, KeyedVectors\n",
    "\n",
    "model1 = KeyedVectors.load_word2vec_format('word2vec_779845.bin', binary=True)"
   ]
  },
  {
   "cell_type": "code",
   "execution_count": null,
   "metadata": {},
   "outputs": [],
   "source": [
    "model1.most_similar('漂亮')"
   ]
  }
 ],
 "metadata": {
  "kernelspec": {
   "display_name": "Python 3",
   "language": "python",
   "name": "python3"
  },
  "language_info": {
   "codemirror_mode": {
    "name": "ipython",
    "version": 3
   },
   "file_extension": ".py",
   "mimetype": "text/x-python",
   "name": "python",
   "nbconvert_exporter": "python",
   "pygments_lexer": "ipython3",
   "version": "3.5.2"
  }
 },
 "nbformat": 4,
 "nbformat_minor": 2
}
